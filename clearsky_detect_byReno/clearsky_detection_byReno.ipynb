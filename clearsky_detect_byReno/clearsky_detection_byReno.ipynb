{
 "cells": [
  {
   "cell_type": "code",
   "execution_count": 1,
   "id": "55e7e650",
   "metadata": {},
   "outputs": [],
   "source": [
    "import pandas as pd\n",
    "import numpy as np\n",
    "import plotly.graph_objects as go\n",
    "from datetime import datetime, timedelta\n",
    "\n",
    "from SolarCalculator.clearskycal import calsolar"
   ]
  },
  {
   "cell_type": "code",
   "execution_count": 2,
   "id": "b358defd",
   "metadata": {},
   "outputs": [],
   "source": [
    "plant = pd.read_csv('/Users/khunnoot/Desktop/year4/senior_project/solarmap_project/clear-sky-detection/plant_metadata.csv',\n",
    "                   usecols = lambda column : column != 'Unnamed: 0')"
   ]
  },
  {
   "cell_type": "code",
   "execution_count": 3,
   "id": "6e3534a7",
   "metadata": {},
   "outputs": [],
   "source": [
    "ims30 = pd.read_csv('/Users/khunnoot/Desktop/year4/senior_project/solarmap_project/clear-sky-detection/ims/030-20220201-20230630.csv', \n",
    "                    parse_dates = ['Datetime'],\n",
    "                   index_col = ['Datetime'])"
   ]
  },
  {
   "cell_type": "code",
   "execution_count": 4,
   "id": "2107de9c",
   "metadata": {},
   "outputs": [],
   "source": [
    "ims30['site_name'] = 'ISL030'\n",
    "ims30.index = ims30.index.tz_localize('Asia/Bangkok')\n",
    "ims30 = ims30.resample('15min').last()\n",
    "ims30.rename(columns={'Irradiance_1375 (W/m2)':'I'}, inplace = True)\n",
    "ims30['Iclr'] = calsolar.cal_clearsky(ims30, plant.lat[29], plant.lng[29], plant.alt[29])"
   ]
  },
  {
   "cell_type": "code",
   "execution_count": 5,
   "id": "1a9769a9",
   "metadata": {},
   "outputs": [
    {
     "data": {
      "text/plain": [
       "49440"
      ]
     },
     "execution_count": 5,
     "metadata": {},
     "output_type": "execute_result"
    }
   ],
   "source": [
    "import clearsky\n",
    "\n",
    "test = ims30.loc['2022-02-01':'2023-06-30']\n",
    "len(test)"
   ]
  },
  {
   "cell_type": "code",
   "execution_count": 6,
   "id": "876a1102",
   "metadata": {},
   "outputs": [
    {
     "data": {
      "text/plain": [
       "Datetime\n",
       "2022-02-01 00:00:00+07:00    False\n",
       "2022-02-01 00:15:00+07:00    False\n",
       "2022-02-01 00:30:00+07:00    False\n",
       "2022-02-01 00:45:00+07:00    False\n",
       "2022-02-01 01:00:00+07:00    False\n",
       "                             ...  \n",
       "2023-06-30 22:45:00+07:00    False\n",
       "2023-06-30 23:00:00+07:00    False\n",
       "2023-06-30 23:15:00+07:00    False\n",
       "2023-06-30 23:30:00+07:00    False\n",
       "2023-06-30 23:45:00+07:00    False\n",
       "Freq: 15T, Length: 49440, dtype: bool"
      ]
     },
     "execution_count": 6,
     "metadata": {},
     "output_type": "execute_result"
    }
   ],
   "source": [
    "import tools\n",
    "from scipy.optimize import minimize_scalar\n",
    "from scipy.linalg import hankel\n",
    "import h5py\n",
    "\n",
    "detect_GHIc = clearsky.detect_clearsky(test.I, test.Iclr, times=test.index, window_length=45,\n",
    "                    mean_diff=75, max_diff=75,\n",
    "                    lower_line_length=-5, upper_line_length=10,\n",
    "                    var_diff=0.005, slope_dev=8, max_iterations=20,\n",
    "                    return_components=False)\n",
    "detect_GHIc"
   ]
  },
  {
   "cell_type": "code",
   "execution_count": null,
   "id": "f446f0a7",
   "metadata": {},
   "outputs": [],
   "source": []
  }
 ],
 "metadata": {
  "kernelspec": {
   "display_name": "Python 3 (ipykernel)",
   "language": "python",
   "name": "python3"
  },
  "language_info": {
   "codemirror_mode": {
    "name": "ipython",
    "version": 3
   },
   "file_extension": ".py",
   "mimetype": "text/x-python",
   "name": "python",
   "nbconvert_exporter": "python",
   "pygments_lexer": "ipython3",
   "version": "3.9.13"
  }
 },
 "nbformat": 4,
 "nbformat_minor": 5
}
